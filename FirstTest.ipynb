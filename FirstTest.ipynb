{
 "cells": [
  {
   "cell_type": "code",
   "execution_count": 3,
   "id": "1d6f2cca-95d9-451f-afcc-b30c1690ad4f",
   "metadata": {},
   "outputs": [
    {
     "name": "stdout",
     "output_type": "stream",
     "text": [
      "2.5.4\n"
     ]
    }
   ],
   "source": [
    "# Base Libs\n",
    "\n",
    "import numpy as np\n",
    "import matplotlib.pyplot as plt\n",
    "import pandas as pd\n",
    "\n",
    "# 3d libs\n",
    "\n",
    "import open3d as o3d\n",
    "import laspy\n",
    "print (laspy.__version__)\n",
    "\n",
    "# GeoSpatial Libs\n",
    "\n",
    "import rasterio\n",
    "import alphashape as ash\n",
    "import geopandas as gpd\n",
    "import shapely as sh\n",
    "\n",
    "from rasterio.transform import from_origin\n",
    "from rasterio.enums import Resampling\n",
    "from rasterio.features import shapes\n",
    "from shapely.geometry import Polygon\n"
   ]
  },
  {
   "cell_type": "code",
   "execution_count": 4,
   "id": "bf62eddc-2326-4b7f-bdca-4b8a816879dd",
   "metadata": {},
   "outputs": [],
   "source": [
    "# load the data\n",
    "\n",
    "DATA_FOLDER_PATH = '/Users/prakash/Library/CloudStorage/GoogleDrive-engineer.manandhar@gmail.com/.shortcut-targets-by-id/1GrfVxT8GMrVno0FaobaDH7tGSxajCnMD/Power system resilience /data/LIDAR-YellowScan-Demo/'\n",
    "FILE_NAME = 'VA50-NA-FORE-ALTAX-90mAGL-10mps-SA-WADemo_Bridge (1).laz'\n",
    "FILE_PATH = DATA_FOLDER_PATH + FILE_NAME\n",
    "\n",
    "las = laspy.read(FILE_PATH)"
   ]
  },
  {
   "cell_type": "code",
   "execution_count": null,
   "id": "0abd56e3-7f82-4fd6-bacc-bf1b889a335b",
   "metadata": {},
   "outputs": [],
   "source": []
  }
 ],
 "metadata": {
  "kernelspec": {
   "display_name": "Python 3 (ipykernel)",
   "language": "python",
   "name": "python3"
  },
  "language_info": {
   "codemirror_mode": {
    "name": "ipython",
    "version": 3
   },
   "file_extension": ".py",
   "mimetype": "text/x-python",
   "name": "python",
   "nbconvert_exporter": "python",
   "pygments_lexer": "ipython3",
   "version": "3.10.16"
  }
 },
 "nbformat": 4,
 "nbformat_minor": 5
}
